{
 "cells": [
  {
   "cell_type": "code",
   "execution_count": 19,
   "id": "e2a2e263-ab4f-4fc0-94f6-68642e5bf9fc",
   "metadata": {},
   "outputs": [],
   "source": [
    "i=11\n",
    "def fun(i):\n",
    "    if i==11:\n",
    "        return\n",
    "    print(i*2)\n",
    "    i=i+1\n",
    "    fun(i)\n",
    "    return 0"
   ]
  },
  {
   "cell_type": "code",
   "execution_count": 27,
   "id": "9938a29c-3589-489a-9091-908dccbb7da7",
   "metadata": {},
   "outputs": [
    {
     "name": "stdin",
     "output_type": "stream",
     "text": [
      "enter the num: 3\n"
     ]
    },
    {
     "name": "stdout",
     "output_type": "stream",
     "text": [
      "1\n"
     ]
    }
   ],
   "source": [
    "fact=1\n",
    "n=int(input(\"enter the num:\"))\n",
    "for i in range(n,1,-1):\n",
    "  fact*=1\n",
    "print(fact)"
   ]
  },
  {
   "cell_type": "code",
   "execution_count": 31,
   "id": "9cb4a99a-15fd-4d8c-8213-6fec78107bcf",
   "metadata": {},
   "outputs": [
    {
     "name": "stdout",
     "output_type": "stream",
     "text": [
      "[1, 2, 3, 5, 6, 7, 8, 9]\n"
     ]
    }
   ],
   "source": [
    "def findpi(ar,low,high):\n",
    "    pe=ar[high]\n",
    "    j=low-1\n",
    "    for i in range (low,high):\n",
    "        if pe>ar[i]:\n",
    "            j+=1\n",
    "            ar[i],ar[j]=ar[j],ar[i]\n",
    "    ar[high],ar[j+1]=ar[j+1],ar[high]\n",
    "    return j+1\n",
    "\n",
    "def quicksort(ar,low,high):\n",
    "    if low<high:\n",
    "        pi=findpi(ar,low,high)\n",
    "        quicksort(ar,low,pi-1)\n",
    "        quicksort(ar,pi+1,high)\n",
    "\n",
    "ar=[3,5,2,7,8,6,1,9]\n",
    "quicksort(ar,0,len(ar)-1)\n",
    "print(ar)"
   ]
  },
  {
   "cell_type": "markdown",
   "id": "78c585d9-3861-4605-8886-6cde01ef357f",
   "metadata": {},
   "source": [
    "linked list"
   ]
  },
  {
   "cell_type": "code",
   "execution_count": 13,
   "id": "db2dadfd-ae4f-4002-ab07-7d65bb4a2318",
   "metadata": {},
   "outputs": [
    {
     "name": "stdout",
     "output_type": "stream",
     "text": [
      "🍎\n",
      "📕\n",
      "😺\n",
      "🐕\n",
      "None\n",
      "<class '__main__.node'>\n",
      "<class '__main__.node'>\n",
      "<class '__main__.node'>\n",
      "<class 'NoneType'>\n"
     ]
    }
   ],
   "source": [
    "class node:\n",
    "    def __init__(self,value):\n",
    "        self.data=value\n",
    "        self.next=None\n",
    "\n",
    "A=node('🍎')\n",
    "B=node('📕')\n",
    "C=node('😺')\n",
    "D=node('🐕')\n",
    "head=A\n",
    "head.next=B\n",
    "head.next.next=C\n",
    "head.next.next.next=D\n",
    "\n",
    "print(A.data)\n",
    "print(A.next.data)\n",
    "print(B.next.data)\n",
    "print(C.next.data)\n",
    "print(D.next)\n",
    "print(type(A.next))\n",
    "print(type(B.next))\n",
    "print(type(C.next))\n",
    "print(type(D.next))"
   ]
  },
  {
   "cell_type": "code",
   "execution_count": null,
   "id": "63415da1-4587-4bc4-bc0d-0c2ce9b91467",
   "metadata": {},
   "outputs": [],
   "source": []
  }
 ],
 "metadata": {
  "kernelspec": {
   "display_name": "Python 3 (ipykernel)",
   "language": "python",
   "name": "python3"
  },
  "language_info": {
   "codemirror_mode": {
    "name": "ipython",
    "version": 3
   },
   "file_extension": ".py",
   "mimetype": "text/x-python",
   "name": "python",
   "nbconvert_exporter": "python",
   "pygments_lexer": "ipython3",
   "version": "3.12.3"
  }
 },
 "nbformat": 4,
 "nbformat_minor": 5
}
