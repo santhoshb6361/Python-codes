{
 "cells": [
  {
   "cell_type": "code",
   "execution_count": null,
   "id": "63c6349f",
   "metadata": {},
   "outputs": [],
   "source": []
  },
  {
   "cell_type": "markdown",
   "id": "8d37caaf",
   "metadata": {},
   "source": [
    "pass:show the mt block"
   ]
  },
  {
   "cell_type": "code",
   "execution_count": 4,
   "id": "4ca81634",
   "metadata": {},
   "outputs": [
    {
     "name": "stdout",
     "output_type": "stream",
     "text": [
      "<class 'int'>\n"
     ]
    }
   ],
   "source": [
    "a=5\n",
    "print(type(a))"
   ]
  },
  {
   "cell_type": "code",
   "execution_count": 9,
   "id": "5141febd",
   "metadata": {},
   "outputs": [
    {
     "name": "stdout",
     "output_type": "stream",
     "text": [
      "this laptop is 8gm Ram 1TB SSD\n",
      "0\n"
     ]
    }
   ],
   "source": [
    "class laptop:\n",
    "    a=0\n",
    "    def config(self):\n",
    "        print(\"this laptop is 8gm Ram 1TB SSD\")\n",
    "\n",
    "hp = laptop()\n",
    "\n",
    "hp.config()\n",
    "print(hp.a)"
   ]
  },
  {
   "cell_type": "markdown",
   "id": "e244b37d",
   "metadata": {},
   "source": [
    "create a laptop class with variable as processor,ram and storage\n",
    "create function to print the configuration of the laptops\n",
    "create 3 object of laptop with diffrent brand and display its configuration "
   ]
  },
  {
   "cell_type": "code",
   "execution_count": 23,
   "id": "6f864907",
   "metadata": {},
   "outputs": [
    {
     "name": "stdout",
     "output_type": "stream",
     "text": [
      "Configuration of the laptop is: \n",
      "Processor i5\n",
      "Ram 8\n",
      "Storage 512\n"
     ]
    }
   ],
   "source": [
    "class laptop:\n",
    "    def __init__(self,p,r,s):\n",
    "        self.processor=p\n",
    "        self.ram=r\n",
    "        self.storage=s\n",
    "    def config(self):\n",
    "        print(\"Configuration of the laptop is: \")\n",
    "        print(\"Processor\",self.processor)\n",
    "        print(\"Ram\",self.ram)\n",
    "        print(\"Storage\",self.storage)\n",
    "         \n",
    "if __name__==\"__main__\":\n",
    "    hp = laptop(\"i5\",8,512)\n",
    "    hp.config()\n",
    "              \n",
    "              "
   ]
  },
  {
   "cell_type": "code",
   "execution_count": 24,
   "id": "888e3f5d",
   "metadata": {},
   "outputs": [
    {
     "name": "stdout",
     "output_type": "stream",
     "text": [
      "student1 = 42.166666666666664\n",
      "student2 = 46.333333333333336\n",
      "student3 = 59.666666666666664\n"
     ]
    }
   ],
   "source": [
    "class student:\n",
    "    def __init__(self,m):\n",
    "        self.mark=m\n",
    "    def avg(self):\n",
    "        s=0\n",
    "        for i in self.mark:\n",
    "            s+=i\n",
    "        return (s/len(self.mark))\n",
    "    \n",
    "    \n",
    "if __name__==\"__main__\": \n",
    "    st1=student([36,47,45,39,38,48])\n",
    "    st2=student([37,34,46,57,48,56])\n",
    "    st3=student([46,45,78,69,53,67])\n",
    "    \n",
    "    print('student1 =',st1.avg())\n",
    "    print('student2 =',st2.avg())\n",
    "    print('student3 =',st3.avg())"
   ]
  },
  {
   "cell_type": "code",
   "execution_count": 29,
   "id": "597bea9b",
   "metadata": {},
   "outputs": [
    {
     "name": "stdout",
     "output_type": "stream",
     "text": [
      "contracter of class B\n"
     ]
    }
   ],
   "source": [
    "class a:\n",
    "     def __init__(self):\n",
    "            print(\"contracter of class A\")\n",
    "            \n",
    "class b:\n",
    "     def __init__(self):\n",
    "            print(\"contracter of class B\")\n",
    "class c:\n",
    "     def __init__(self):\n",
    "            print(\"contracter of class C\")  \n",
    "class d:\n",
    "     def __init__(self):\n",
    "            print(\"contracter of class D\")  \n",
    "\n",
    "if __name__==\"__main__\": \n",
    "    ob1=b()    \n",
    "    "
   ]
  },
  {
   "cell_type": "code",
   "execution_count": null,
   "id": "52477b7c",
   "metadata": {},
   "outputs": [],
   "source": []
  },
  {
   "cell_type": "code",
   "execution_count": 16,
   "id": "08ea9ec6",
   "metadata": {},
   "outputs": [
    {
     "name": "stdout",
     "output_type": "stream",
     "text": [
      "contracter of class\n",
      "5 14\n"
     ]
    }
   ],
   "source": [
    "class C:\n",
    "    def __init__(self,a=12,b=14):\n",
    "        print(\"contracter of class\")\n",
    "        self.x=a\n",
    "        self.y=b\n",
    "        print(self.x,self.y)\n",
    "\n",
    "ob=C(5)"
   ]
  },
  {
   "cell_type": "code",
   "execution_count": null,
   "id": "f22778f3",
   "metadata": {},
   "outputs": [],
   "source": [
    "class lap:\n",
    "    def __init__(self,p,r,s):\n",
    "        self.processor=p\n",
    "        self.ram=r\n",
    "        self.storage=s\n",
    "\n",
    "class prof_lap(lap):\n",
    "    def __init__(self,bat,p,r,s):\n",
    "        self.battery=bat\n",
    "        self.super(p,r,s)\n",
    "        \n",
    "class gaming(lap):\n",
    "    def __init__(self,graph,p,r,s):\n",
    "        self.graphic=graph\n",
    "        super().__init__(p,r,s)  \n",
    "\n",
    "pro1=prof_lap(\"6hrs,good prodect\")\n",
    "gam1=gaming_lap(\"7hrs,battary\")\n",
    "\n",
    "print(\"Professional laptop having\",\n",
    "       pro1.processor,pro1.ram,\n",
    "       pro1.storage,pro1.battary)\n",
    "\n",
    "print(\"gaming laptop having\",\n",
    "       gam1.processor,gam1.ram,\n",
    "       gam1.storage,gam1.graphic,gam1.battary)"
   ]
  },
  {
   "cell_type": "code",
   "execution_count": 1,
   "id": "31c842fb",
   "metadata": {},
   "outputs": [
    {
     "name": "stdout",
     "output_type": "stream",
     "text": [
      "Ticket booked Fare Price will be:  7850\n"
     ]
    }
   ],
   "source": [
    "class ticket:\n",
    "   \n",
    "    def _init_(self,D):\n",
    "        self.distance = int(D)\n",
    "        self.farePrice = None\n",
    "\n",
    "class gen(ticket):\n",
    "    def __init__(self,D):\n",
    "        super()._init_(D)\n",
    "    def print_ticket(self):\n",
    "        self.farePrice=50+(self.distance*2)\n",
    "        return self.farePrice\n",
    "        \n",
    "\n",
    "\n",
    "class slp(gen):\n",
    "    def __init__(self,D):\n",
    "        super()._init_(D)\n",
    "\n",
    "    def print_ticket(self):\n",
    "        self.farePrice=super().print_ticket()+(2*self.distance)\n",
    "        return self.farePrice\n",
    "\n",
    "class AC(slp):\n",
    "    def _init_(self,D):\n",
    "        super()._init_(D)\n",
    "    def print_ticket(self):\n",
    "        self.farePrice=super().print_ticket()+(4*self.distance)\n",
    "        return self.farePrice\n",
    "\n",
    "class FC(AC):\n",
    "    def _init_(self,D):\n",
    "        super()._init_(D)\n",
    "    def print_ticket(self):\n",
    "        self.farePrice=super().print_ticket()+(5*self.distance)\n",
    "        return self.farePrice\n",
    "\n",
    "\n",
    "jur = FC(600)\n",
    "print(\"Ticket booked Fare Price will be: \",jur.print_ticket())"
   ]
  },
  {
   "cell_type": "code",
   "execution_count": null,
   "id": "36b96fad",
   "metadata": {},
   "outputs": [],
   "source": []
  }
 ],
 "metadata": {
  "kernelspec": {
   "display_name": "Python 3 (ipykernel)",
   "language": "python",
   "name": "python3"
  },
  "language_info": {
   "codemirror_mode": {
    "name": "ipython",
    "version": 3
   },
   "file_extension": ".py",
   "mimetype": "text/x-python",
   "name": "python",
   "nbconvert_exporter": "python",
   "pygments_lexer": "ipython3",
   "version": "3.11.0"
  }
 },
 "nbformat": 4,
 "nbformat_minor": 5
}
