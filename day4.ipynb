{
 "cells": [
  {
   "cell_type": "code",
   "execution_count": 3,
   "id": "9ed7e4d9",
   "metadata": {},
   "outputs": [
    {
     "name": "stdout",
     "output_type": "stream",
     "text": [
      "A\n",
      "A is a upper case caracter\n"
     ]
    }
   ],
   "source": [
    "a=input()\n",
    "if a.isupper():\n",
    "      print(\"A is a upper case caracter\")\n",
    "elif a.islower():\n",
    "    print(\"A is a lower case caracter\")\n",
    "elif a.isnumaric():\n",
    "    print(\"A is a number\")\n",
    "else:\n",
    "    print(\"A is a special caracter\")"
   ]
  },
  {
   "cell_type": "code",
   "execution_count": 4,
   "id": "9e79aa28",
   "metadata": {},
   "outputs": [
    {
     "name": "stdout",
     "output_type": "stream",
     "text": [
      "abcba\n",
      "pallindrome\n"
     ]
    }
   ],
   "source": [
    "a=input()\n",
    "flag = 0\n",
    "for i in range (0,int(len(a)/2)):\n",
    "    if a[i] != a[(i+1)*-1]:\n",
    "        flag = 1\n",
    "        break\n",
    "if flag:\n",
    "    print(\"Not pallindrome\")\n",
    "else:\n",
    "    print(\"pallindrome\")"
   ]
  },
  {
   "cell_type": "code",
   "execution_count": 1,
   "id": "613b4fd6",
   "metadata": {},
   "outputs": [
    {
     "name": "stdout",
     "output_type": "stream",
     "text": [
      "6\n",
      "A is not a prime\n"
     ]
    }
   ],
   "source": [
    "a=int(input())\n",
    "\n",
    "for i in range(2,int(a/2)):\n",
    "    if a%i==0:\n",
    "        print(\"A is not a prime\")\n",
    "        break\n",
    "else:\n",
    "    print(\"A is a prime number\")\n",
    "          "
   ]
  },
  {
   "cell_type": "code",
   "execution_count": 3,
   "id": "cb92ba46",
   "metadata": {},
   "outputs": [
    {
     "name": "stdout",
     "output_type": "stream",
     "text": [
      "8\n"
     ]
    }
   ],
   "source": [
    "x=2\n",
    "y=3\n",
    "print(x**y)"
   ]
  },
  {
   "cell_type": "markdown",
   "id": "e5920450",
   "metadata": {},
   "source": [
    "file handeling:-\n",
    "\n",
    "create:-\n",
    "read:-\n",
    "update:-\n",
    "delete:-\n",
    "\n",
    "CRUD opertion"
   ]
  },
  {
   "cell_type": "code",
   "execution_count": null,
   "id": "0e7adf18",
   "metadata": {},
   "outputs": [],
   "source": []
  },
  {
   "cell_type": "code",
   "execution_count": 17,
   "id": "58b707a8",
   "metadata": {},
   "outputs": [
    {
     "name": "stdout",
     "output_type": "stream",
     "text": [
      "This is first text in file\n",
      "111\n"
     ]
    }
   ],
   "source": [
    "import os\n",
    "\n",
    "with open(\"file.txt\",'w') as f:\n",
    "    f.write(\"This is first text in file\")\n",
    "    f.close()\n",
    "    \n",
    "with open(\"file1.txt\",'r') as f:\n",
    "    for a in f.read().split(\"/n\"):\n",
    "        print(a)\n",
    "        print(\"111\")\n",
    "        f.close()"
   ]
  },
  {
   "cell_type": "markdown",
   "id": "d620b093",
   "metadata": {},
   "source": [
    "w=write\n",
    "r=read\n",
    "a=append\n",
    "w+=write & read\n",
    "r+ = read & write\n",
    "a+ = append & read"
   ]
  },
  {
   "cell_type": "code",
   "execution_count": 31,
   "id": "7ac87708",
   "metadata": {},
   "outputs": [
    {
     "name": "stdout",
     "output_type": "stream",
     "text": [
      "Enter temperature in celsius:10.5\n",
      "Temperature in fahrenheit: 50.900000000000006\n"
     ]
    }
   ],
   "source": [
    "cel=float(input(\"Enter temperature in celsius:\"))\n",
    "far=cel*(9/5)+32\n",
    "print(f'Temperature in fahrenheit: {far}')"
   ]
  },
  {
   "cell_type": "code",
   "execution_count": 13,
   "id": "b0d1e8a4",
   "metadata": {},
   "outputs": [
    {
     "name": "stdout",
     "output_type": "stream",
     "text": [
      "Enter interger: 3\n"
     ]
    }
   ],
   "source": [
    "li=[int(item) for item in input(\"Enter interger: \").split()]\n",
    "for i in range(0,len(l)):\n",
    "    for j in range(0,len(-1)):\n",
    "        if li[i]>li[j]:\n",
    "            li(i),li(j)==li(j),li(i)\n",
    "    print(li[-2])\n",
    "   "
   ]
  },
  {
   "cell_type": "code",
   "execution_count": 15,
   "id": "7d7c04f7",
   "metadata": {},
   "outputs": [
    {
     "name": "stdout",
     "output_type": "stream",
     "text": [
      "Enter the number of elements to enter in the list: 5\n",
      "Enter the element: 2\n",
      "Enter the element: 47\n",
      "Enter the element: 6\n",
      "Enter the element: 7\n",
      "Enter the element: 8\n"
     ]
    }
   ],
   "source": [
    "lst = []\n",
    "for i in range(int(input(\"Enter the number of elements to enter in the list: \"))):\n",
    "    x = int(input(\"Enter the element: \"))\n",
    "    lst.append(x)\n",
    "    \n",
    "def method1(lst):\n",
    "    lst.sort()\n",
    "    print(\"the second largest element of the list: \",lst[-2])"
   ]
  },
  {
   "cell_type": "code",
   "execution_count": null,
   "id": "2309189c",
   "metadata": {},
   "outputs": [],
   "source": []
  }
 ],
 "metadata": {
  "kernelspec": {
   "display_name": "Python 3 (ipykernel)",
   "language": "python",
   "name": "python3"
  },
  "language_info": {
   "codemirror_mode": {
    "name": "ipython",
    "version": 3
   },
   "file_extension": ".py",
   "mimetype": "text/x-python",
   "name": "python",
   "nbconvert_exporter": "python",
   "pygments_lexer": "ipython3",
   "version": "3.11.0"
  }
 },
 "nbformat": 4,
 "nbformat_minor": 5
}
