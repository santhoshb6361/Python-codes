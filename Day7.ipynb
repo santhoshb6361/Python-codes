{
 "cells": [
  {
   "cell_type": "code",
   "execution_count": 5,
   "id": "6d338bb7-f080-462e-92f9-1ce42ef7c447",
   "metadata": {},
   "outputs": [
    {
     "name": "stdout",
     "output_type": "stream",
     "text": [
      "6 7 8\n",
      "19\n"
     ]
    }
   ],
   "source": [
    "l=[2,4,6,1,3,7,4,6,9,3,6,8,3,6,4,1,3,9,6,4,5,6,8,3,7,3,6,8]\n",
    "ma=0\n",
    "for i in range(len(l)-2):\n",
    "    if ma<(l[i]+l[i+1]+l[i+2]):\n",
    "        ma=l[i]+l[i+1]+l[i+2]\n",
    "        a,b,c=i,i+1,i+2\n",
    "\n",
    "print(a,b,c)\n",
    "print(ma)\n",
    "            "
   ]
  },
  {
   "cell_type": "code",
   "execution_count": 11,
   "id": "ada109ce-f786-485a-b88f-c8eaf2b6455f",
   "metadata": {},
   "outputs": [
    {
     "name": "stdin",
     "output_type": "stream",
     "text": [
      "enter no. of consecutive number:  2\n"
     ]
    },
    {
     "name": "stdout",
     "output_type": "stream",
     "text": [
      "15\n"
     ]
    }
   ],
   "source": [
    "l=[2,4,6,1,3,7,4,6,9,3,6,8,3,6,4,1,3,9,6,4,5,6,8,3,7,3,6,8]\n",
    "user=int(input(\"enter no. of consecutive number: \"))\n",
    "ma=0\n",
    "for i in range(len(l)-user):\n",
    "    s=0\n",
    "    for j in range(0,user):\n",
    "        s=s+l[i+j]\n",
    "        \n",
    "        if ma<s:\n",
    "            ma=s\n",
    "\n",
    "print(ma)"
   ]
  },
  {
   "cell_type": "code",
   "execution_count": 21,
   "id": "98441edb-d6d5-4403-af91-dc7c14642c27",
   "metadata": {},
   "outputs": [
    {
     "name": "stdin",
     "output_type": "stream",
     "text": [
      "enter no. of consecutive number:  3\n"
     ]
    },
    {
     "name": "stdout",
     "output_type": "stream",
     "text": [
      "9\n"
     ]
    }
   ],
   "source": [
    "l=[2,4,6,1,3,7,4,6,9,3,6,8,3,6,4,1,3,9,6,4,5,6,8,3,7,3,6,8]\n",
    "user=int(input(\"enter no. of consecutive number: \"))\n",
    "ma=0\n",
    "for i in range(len(l)-user):\n",
    "    s=0\n",
    "    \n",
    "    if ma<s:\n",
    "        ma=s\n",
    "\n",
    "print(ma)\n"
   ]
  },
  {
   "cell_type": "markdown",
   "id": "4a8db85b-34fc-4daa-9c37-a5c6ca3edbde",
   "metadata": {},
   "source": [
    "SORTING"
   ]
  },
  {
   "cell_type": "code",
   "execution_count": 2,
   "id": "12fc6cab-6c4a-4d39-83d6-a4e1a71c5233",
   "metadata": {},
   "outputs": [
    {
     "name": "stdout",
     "output_type": "stream",
     "text": [
      "[1, 2, 3, 4, 5, 6, 7, 8, 9]\n"
     ]
    }
   ],
   "source": [
    "l=[3,5,2,6,7,4,8,1,9]\n",
    "for i in range(len(l)):\n",
    "    for j in range(i+1,len(l)):\n",
    "        if l[i]>l[j]:\n",
    "          l[i],l[j]=l[j],l[i]\n",
    "print(l)"
   ]
  },
  {
   "cell_type": "code",
   "execution_count": null,
   "id": "26ef34ff-ac2e-4e67-9902-4b2f2b6efe9b",
   "metadata": {},
   "outputs": [],
   "source": []
  }
 ],
 "metadata": {
  "kernelspec": {
   "display_name": "Python 3 (ipykernel)",
   "language": "python",
   "name": "python3"
  },
  "language_info": {
   "codemirror_mode": {
    "name": "ipython",
    "version": 3
   },
   "file_extension": ".py",
   "mimetype": "text/x-python",
   "name": "python",
   "nbconvert_exporter": "python",
   "pygments_lexer": "ipython3",
   "version": "3.12.3"
  }
 },
 "nbformat": 4,
 "nbformat_minor": 5
}
