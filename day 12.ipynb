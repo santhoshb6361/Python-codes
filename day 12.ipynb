{
 "cells": [
  {
   "cell_type": "code",
   "execution_count": 8,
   "id": "1fb13775-4996-408a-8869-743ca3db6223",
   "metadata": {},
   "outputs": [
    {
     "name": "stdout",
     "output_type": "stream",
     "text": [
      "1 \n"
     ]
    },
    {
     "ename": "NameError",
     "evalue": "name 'tag' is not defined",
     "output_type": "error",
     "traceback": [
      "\u001b[1;31m---------------------------------------------------------------------------\u001b[0m",
      "\u001b[1;31mNameError\u001b[0m                                 Traceback (most recent call last)",
      "Cell \u001b[1;32mIn[8], line 38\u001b[0m\n\u001b[0;32m     35\u001b[0m root\u001b[38;5;241m.\u001b[39mleft\u001b[38;5;241m.\u001b[39mright\u001b[38;5;241m=\u001b[39mnode(\u001b[38;5;241m6\u001b[39m)\n\u001b[0;32m     36\u001b[0m root\u001b[38;5;241m.\u001b[39mright\u001b[38;5;241m.\u001b[39mleft\u001b[38;5;241m=\u001b[39mnode(\u001b[38;5;241m7\u001b[39m)\n\u001b[1;32m---> 38\u001b[0m \u001b[43mlevelorder\u001b[49m\u001b[43m(\u001b[49m\u001b[43mroot\u001b[49m\u001b[43m)\u001b[49m\n\u001b[0;32m     39\u001b[0m \u001b[38;5;28mprint\u001b[39m(levelorder)\n",
      "Cell \u001b[1;32mIn[8], line 17\u001b[0m, in \u001b[0;36mlevelorder\u001b[1;34m(root)\u001b[0m\n\u001b[0;32m     15\u001b[0m     \u001b[38;5;28;01mif\u001b[39;00m q:\n\u001b[0;32m     16\u001b[0m         q\u001b[38;5;241m.\u001b[39mappend(curr)\n\u001b[1;32m---> 17\u001b[0m         \u001b[38;5;28;01mif\u001b[39;00m \u001b[43mtag\u001b[49m\u001b[38;5;241m==\u001b[39m\u001b[38;5;28;01mNone\u001b[39;00m:\n\u001b[0;32m     18\u001b[0m             \u001b[38;5;28mprint\u001b[39m()\n\u001b[0;32m     20\u001b[0m \u001b[38;5;28;01melse\u001b[39;00m:\n",
      "\u001b[1;31mNameError\u001b[0m: name 'tag' is not defined"
     ]
    }
   ],
   "source": [
    "class node:\n",
    "    def __init__(self,value):\n",
    "        self.data=value\n",
    "        self.left=None\n",
    "        self.right=None\n",
    "        self.tag=None\n",
    "\n",
    "\n",
    "def levelorder(root):\n",
    "    q=[root,None]\n",
    "    while q:\n",
    "        curr=q.pop(0)\n",
    "        if curr==None:\n",
    "            print()\n",
    "            if q:\n",
    "                q.append(curr)\n",
    "                if tag==None:\n",
    "                    print()\n",
    "                \n",
    "        else:\n",
    "            print(curr.data,end=\" \")\n",
    "            if curr.left!=None:\n",
    "                q.append(curr.left)\n",
    "            if curr.right!=None:\n",
    "                q.append(curr.right)\n",
    "            if curr.tag==None:\n",
    "                q.append(curr.tag)   \n",
    "root=node(1)\n",
    "root.left=node(2)\n",
    "root.right=node(3)\n",
    "        \n",
    "root.left.left=node(4)\n",
    "root.right.right=node(5)\n",
    "        \n",
    "root.left.right=node(6)\n",
    "root.right.left=node(7)\n",
    "\n",
    "levelorder(root)\n",
    "print(levelorder)\n"
   ]
  },
  {
   "cell_type": "code",
   "execution_count": null,
   "id": "255469e8-1f0b-4422-8df1-c38d9bc84780",
   "metadata": {},
   "outputs": [],
   "source": []
  }
 ],
 "metadata": {
  "kernelspec": {
   "display_name": "Python 3 (ipykernel)",
   "language": "python",
   "name": "python3"
  },
  "language_info": {
   "codemirror_mode": {
    "name": "ipython",
    "version": 3
   },
   "file_extension": ".py",
   "mimetype": "text/x-python",
   "name": "python",
   "nbconvert_exporter": "python",
   "pygments_lexer": "ipython3",
   "version": "3.12.3"
  }
 },
 "nbformat": 4,
 "nbformat_minor": 5
}
