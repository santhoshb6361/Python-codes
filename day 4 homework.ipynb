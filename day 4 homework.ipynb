{
 "cells": [
  {
   "cell_type": "markdown",
   "id": "54f96d8d",
   "metadata": {},
   "source": [
    "convert a temperature from celsius to fahrenheit?"
   ]
  },
  {
   "cell_type": "code",
   "execution_count": 1,
   "id": "229b0978",
   "metadata": {},
   "outputs": [
    {
     "name": "stdout",
     "output_type": "stream",
     "text": [
      "Enter temperature in celsius:10.5\n",
      "Temperature in fahrenheit: 50.900000000000006\n"
     ]
    }
   ],
   "source": [
    "cel=float(input(\"Enter temperature in celsius:\"))\n",
    "far=cel*(9/5)+32\n",
    "print(f'Temperature in fahrenheit: {far}')"
   ]
  },
  {
   "cell_type": "markdown",
   "id": "bfafcfb4",
   "metadata": {},
   "source": [
    "find the second largest elementin a list?"
   ]
  },
  {
   "cell_type": "code",
   "execution_count": 1,
   "id": "cff78042",
   "metadata": {},
   "outputs": [
    {
     "name": "stdout",
     "output_type": "stream",
     "text": [
      "Enter size of list 5\n",
      "Enter element of list 2\n",
      "Enter element of list 6\n",
      "Enter element of list 8\n",
      "Enter element of list 9\n",
      "Enter element of list 4\n",
      "second largest in [2, 6, 8, 9, 4] is\n",
      "8\n"
     ]
    }
   ],
   "source": [
    "def second_largest(list):\n",
    "    list.sort()\n",
    "    return list[-2]\n",
    "li=[]\n",
    "n=int(input(\"Enter size of list \"))\n",
    "for i in range(0,n):\n",
    "    e=int(input(\"Enter element of list \"))\n",
    "    li.append(e)\n",
    "print(\"second largest in\",li,\"is\") \n",
    "print(second_largest(li))"
   ]
  },
  {
   "cell_type": "markdown",
   "id": "dd177c39",
   "metadata": {},
   "source": [
    "find the sum of all even numbers in a list?"
   ]
  },
  {
   "cell_type": "code",
   "execution_count": 8,
   "id": "7019a53d",
   "metadata": {},
   "outputs": [
    {
     "name": "stdout",
     "output_type": "stream",
     "text": [
      "Enter 5 element for the list:\n",
      "2\n",
      "3\n",
      "4\n",
      "5\n",
      "6\n",
      "\n",
      "Sum of Even Number is 12\n"
     ]
    }
   ],
   "source": [
    "nums = []\n",
    "print(\"Enter 5 element for the list:\")\n",
    "for i in range(5):\n",
    "    val = int(input())\n",
    "    nums.append(val)\n",
    "sum = 0\n",
    "for i in range(5):\n",
    "    if nums[i]%2 == 0:\n",
    "        sum = sum + nums[i]\n",
    "print(\"\\nSum of Even Number is\", sum)        "
   ]
  },
  {
   "cell_type": "markdown",
   "id": "d9c0d574",
   "metadata": {},
   "source": [
    "count the occurrences of each element in a list?"
   ]
  },
  {
   "cell_type": "code",
   "execution_count": 9,
   "id": "ca43b43e",
   "metadata": {},
   "outputs": [
    {
     "name": "stdout",
     "output_type": "stream",
     "text": [
      "Enter size of list 5\n",
      "Enter element to be checked list: 2\n",
      "Enter element to be checked list: 3\n",
      "Enter element to be checked list: 4\n",
      "Enter element to be checked list: 5\n",
      "Enter element to be checked list: 6\n",
      "Original list:  [2, 3, 4, 5, 6]\n",
      "Enter element to be checked list: 2\n",
      "2  has occurred 1 times\n"
     ]
    }
   ],
   "source": [
    "def count_occurrence(list,n):\n",
    "    count=0\n",
    "    for i in list:\n",
    "        if(i==n):\n",
    "            count=count+1\n",
    "    return count\n",
    "li=[]\n",
    "n=int(input(\"Enter size of list \"))\n",
    "for i in range(0,n):\n",
    "    e=int(input(\"Enter element to be checked list: \"))\n",
    "    li.append(e)\n",
    "print(\"Original list: \",li)\n",
    "x=int(input(\"Enter element to be checked list: \"))\n",
    "print(x,\" has occurred\",count_occurrence(li,x),\"times\")\n"
   ]
  },
  {
   "cell_type": "markdown",
   "id": "317844c3",
   "metadata": {},
   "source": [
    "count the number of vowels in a string? "
   ]
  },
  {
   "cell_type": "code",
   "execution_count": 12,
   "id": "4a0d374f",
   "metadata": {},
   "outputs": [
    {
     "name": "stdout",
     "output_type": "stream",
     "text": [
      "Total vowels are:  3\n"
     ]
    }
   ],
   "source": [
    "str = \"Hello world\"\n",
    "count = 0\n",
    "for i in str:\n",
    "    if (\n",
    "        i == \"A\"\n",
    "        or i == \"a\"\n",
    "        or i == \"E\"\n",
    "        or i == \"e\"\n",
    "        or i == \"I\"\n",
    "        or i == \"i\"\n",
    "        or i == \"O\"\n",
    "        or i == \"o\"\n",
    "        or i == \"U\"\n",
    "        or i == \"u\"\n",
    "    ):\n",
    "        count += 1\n",
    "print(\"Total vowels are: \",count)        "
   ]
  },
  {
   "cell_type": "markdown",
   "id": "f8edbc53",
   "metadata": {},
   "source": [
    "reverse the words in a given sentence?"
   ]
  },
  {
   "cell_type": "code",
   "execution_count": 15,
   "id": "7defd154",
   "metadata": {},
   "outputs": [
    {
     "name": "stdout",
     "output_type": "stream",
     "text": [
      "reverse:  good is python\n"
     ]
    }
   ],
   "source": [
    "def rev_words(string):\n",
    "    words = string.split(' ')\n",
    "    rev = ' '.join(reversed(words))\n",
    "    return rev\n",
    "s= \"python is good\"\n",
    "print (\"reverse: \",rev_words(s))"
   ]
  },
  {
   "cell_type": "markdown",
   "id": "b0967795",
   "metadata": {},
   "source": [
    "create"
   ]
  },
  {
   "cell_type": "code",
   "execution_count": 3,
   "id": "ad798f85",
   "metadata": {},
   "outputs": [],
   "source": [
    "import os\n",
    "fruits=['apple','banana','mango','grapes']\n",
    "with open (\"fruits.txt\",'w') as f:\n",
    "    for item in fruits:\n",
    "        f.write"
   ]
  },
  {
   "cell_type": "code",
   "execution_count": null,
   "id": "3e894a0c",
   "metadata": {},
   "outputs": [],
   "source": []
  },
  {
   "cell_type": "code",
   "execution_count": null,
   "id": "3e4812ca",
   "metadata": {},
   "outputs": [],
   "source": []
  },
  {
   "cell_type": "code",
   "execution_count": null,
   "id": "be58d7bf",
   "metadata": {},
   "outputs": [],
   "source": []
  }
 ],
 "metadata": {
  "kernelspec": {
   "display_name": "Python 3 (ipykernel)",
   "language": "python",
   "name": "python3"
  },
  "language_info": {
   "codemirror_mode": {
    "name": "ipython",
    "version": 3
   },
   "file_extension": ".py",
   "mimetype": "text/x-python",
   "name": "python",
   "nbconvert_exporter": "python",
   "pygments_lexer": "ipython3",
   "version": "3.11.0"
  }
 },
 "nbformat": 4,
 "nbformat_minor": 5
}
