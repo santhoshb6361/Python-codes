{
 "cells": [
  {
   "cell_type": "code",
   "execution_count": 3,
   "id": "e9ab5030-7a8f-4155-b589-c664d9538a01",
   "metadata": {},
   "outputs": [
    {
     "name": "stdin",
     "output_type": "stream",
     "text": [
      " world\n"
     ]
    },
    {
     "name": "stdout",
     "output_type": "stream",
     "text": [
      "dlrow"
     ]
    }
   ],
   "source": [
    "a=input()\n",
    "s=[]\n",
    "for i in a:\n",
    "    s.append(i)\n",
    "while len(s)>0:\n",
    "    print(s.pop(),end='')"
   ]
  },
  {
   "cell_type": "code",
   "execution_count": 5,
   "id": "a3bbdd69-72d1-4dce-b6bd-8f1e4c3c39ee",
   "metadata": {},
   "outputs": [
    {
     "name": "stdin",
     "output_type": "stream",
     "text": [
      " this is car\n"
     ]
    },
    {
     "name": "stdout",
     "output_type": "stream",
     "text": [
      "car is this "
     ]
    }
   ],
   "source": [
    "a=input()\n",
    "s=[]\n",
    "for i in a.split():\n",
    "    s.append(i)\n",
    "while len(s)>0:\n",
    "    print(s.pop(),end=' ')"
   ]
  },
  {
   "cell_type": "code",
   "execution_count": 1,
   "id": "bc126489-a68d-46c3-81eb-0856bb1d3354",
   "metadata": {},
   "outputs": [
    {
     "name": "stdin",
     "output_type": "stream",
     "text": [
      " a+n\n"
     ]
    },
    {
     "name": "stdout",
     "output_type": "stream",
     "text": [
      " an+\n"
     ]
    }
   ],
   "source": [
    "def prec(x):\n",
    "    if x=='+'or x=='-':\n",
    "        return 1\n",
    "    elif x=='*'or x=='/'or x=='%':\n",
    "        return 2\n",
    "    elif x=='^':\n",
    "        return 3\n",
    "    elif x=='(' or x=='#':\n",
    "        return 0\n",
    "    else:\n",
    "        return -1\n",
    "    \n",
    "def assoc(x):\n",
    "    if x=='^':\n",
    "        return'R'\n",
    "    else:\n",
    "        return'L'\n",
    "\n",
    "a=input()\n",
    "s=[]\n",
    "s.append('#')\n",
    "result=' '\n",
    "for i in a:\n",
    "    if i.isalnum():\n",
    "        result+=i\n",
    "    elif i=='+' or i=='-' or i =='*' or i=='/' or i=='%':\n",
    "        s.append(i)\n",
    "    elif i =='(':\n",
    "        s.append(i)\n",
    "    elif i ==')':\n",
    "        while s[-1]!='(':\n",
    "            result+=s.pop()\n",
    "        s.pop()\n",
    "    else:\n",
    "        while s and (prec(s[-1])>prec(i)) or ((prec(i)==prec(s[-1])) and assoc(i)=='L'):\n",
    "            result+=s.pop()\n",
    "            s.append(i)\n",
    "\n",
    "while s[-1]!='#':\n",
    "    result+=s.pop()\n",
    "\n",
    "print(result)\n",
    "\n"
   ]
  },
  {
   "cell_type": "code",
   "execution_count": 10,
   "id": "250df699-9906-4f05-850e-1b6692b1cafb",
   "metadata": {},
   "outputs": [
    {
     "name": "stdin",
     "output_type": "stream",
     "text": [
      "enter the intake food a d c r r a a d r d c c\n"
     ]
    },
    {
     "name": "stdout",
     "output_type": "stream",
     "text": [
      "energy=2\n",
      "['a', ['a']]\n"
     ]
    }
   ],
   "source": [
    "e=0\n",
    "intake=[f for f in input('enter the intake food')]\n",
    "s=[]\n",
    "for i in intake:\n",
    "    if not s:\n",
    "        s.append(i)\n",
    "    elif i==s[-1]:\n",
    "        s.append([i])\n",
    "\n",
    "print(f'energy={len(s)}')\n",
    "print(s)"
   ]
  },
  {
   "cell_type": "code",
   "execution_count": 13,
   "id": "8b8d8542-43ac-470d-99fe-c433f0a0759b",
   "metadata": {},
   "outputs": [
    {
     "name": "stdin",
     "output_type": "stream",
     "text": [
      " apple dal chapati rice rice apple apple chapati rice dal chapati chapati \n"
     ]
    },
    {
     "name": "stdout",
     "output_type": "stream",
     "text": [
      "['apple', 'dal', 'chapati', 'rice', 'rice', 'apple', 'apple', 'chapati', 'rice', 'dal', 'chapati', 'chapati']\n",
      "4 ['apple', 'dal', 'rice', 'dal']\n"
     ]
    }
   ],
   "source": [
    "a=[item for item in input().split()]\n",
    "print(a)\n",
    "s=[]\n",
    "for item in a:\n",
    "    if not s:\n",
    "        s.append(item)\n",
    "    elif s[-1]==item:\n",
    "        s.pop()\n",
    "    else:\n",
    "        s.append(item)\n",
    "\n",
    "print(len(s),s)\n"
   ]
  },
  {
   "cell_type": "code",
   "execution_count": 58,
   "id": "9a0807cc-f998-4164-ab96-fdd522f61df7",
   "metadata": {},
   "outputs": [
    {
     "name": "stdin",
     "output_type": "stream",
     "text": [
      " ({})\n"
     ]
    },
    {
     "name": "stdout",
     "output_type": "stream",
     "text": [
      "valid\n"
     ]
    }
   ],
   "source": [
    "sr=input()\n",
    "s=[]\n",
    "for e in sr:\n",
    "    if e=='('or e=='{'or e=='[':\n",
    "        s.append(e)\n",
    "    elif (e==')'and s[-1]=='(') or (e=='}'and s[-1]=='{')or(e=='['and s[-1]=='['):\n",
    "        s.pop() \n",
    "    else:\n",
    "        continue\n",
    "if not s:\n",
    "    print('valid')\n",
    "else:\n",
    "    print('invalid')\n"
   ]
  },
  {
   "cell_type": "code",
   "execution_count": null,
   "id": "5c7b59b7-bed1-4dc5-95a8-fd06aec8436c",
   "metadata": {},
   "outputs": [],
   "source": []
  }
 ],
 "metadata": {
  "kernelspec": {
   "display_name": "Python 3 (ipykernel)",
   "language": "python",
   "name": "python3"
  },
  "language_info": {
   "codemirror_mode": {
    "name": "ipython",
    "version": 3
   },
   "file_extension": ".py",
   "mimetype": "text/x-python",
   "name": "python",
   "nbconvert_exporter": "python",
   "pygments_lexer": "ipython3",
   "version": "3.12.3"
  }
 },
 "nbformat": 4,
 "nbformat_minor": 5
}
