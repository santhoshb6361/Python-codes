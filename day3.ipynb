{
 "cells": [
  {
   "cell_type": "code",
   "execution_count": 1,
   "id": "63ba3247",
   "metadata": {},
   "outputs": [
    {
     "name": "stdout",
     "output_type": "stream",
     "text": [
      "[1, 2, 3, 4, 5, 6]\n"
     ]
    }
   ],
   "source": [
    "a = [1,2,3,4,5,6]\n",
    "print(a)"
   ]
  },
  {
   "cell_type": "code",
   "execution_count": 3,
   "id": "57e2e244",
   "metadata": {},
   "outputs": [
    {
     "name": "stdout",
     "output_type": "stream",
     "text": [
      "<class 'list'>\n"
     ]
    }
   ],
   "source": [
    "a=[1,2,3,4,5]\n",
    "print(type(a))"
   ]
  },
  {
   "cell_type": "code",
   "execution_count": 4,
   "id": "d80c682a",
   "metadata": {},
   "outputs": [
    {
     "name": "stdout",
     "output_type": "stream",
     "text": [
      "1\n",
      "2\n",
      "3\n",
      "6.7\n",
      "7\n"
     ]
    }
   ],
   "source": [
    "x=[1,2,3,6.7,7]\n",
    "for a in range(0,5):\n",
    "    print(x[a])"
   ]
  },
  {
   "cell_type": "code",
   "execution_count": 11,
   "id": "6f2ebd56",
   "metadata": {},
   "outputs": [
    {
     "name": "stdout",
     "output_type": "stream",
     "text": [
      "1\n",
      "2\n",
      "3\n",
      "reddy\n"
     ]
    }
   ],
   "source": [
    "x=[1,2,3,'reddy']\n",
    "for a in range(0,4):\n",
    "    print(x[a])"
   ]
  },
  {
   "cell_type": "markdown",
   "id": "5a3d45e3",
   "metadata": {},
   "source": [
    "list items:\n",
    "append object to the end of the list\n",
    "extend list by \n",
    "def pop():-remove and return item an index(defeult last)\n",
    "def index:-return first index of value\n",
    "           raises valueError if the value is not present\n",
    "def count():-return number of occurrences of value\n",
    "def insert():-insert object before index\n",
    "def remove():-remove first occurrences\n",
    "def sort():-sort the list in ascending order and return none\n",
    "len(list):-length of the list"
   ]
  },
  {
   "cell_type": "code",
   "execution_count": 24,
   "id": "30ca1bed",
   "metadata": {},
   "outputs": [
    {
     "name": "stdout",
     "output_type": "stream",
     "text": [
      "[1, 2, 3, 4, 5]\n",
      "[1, 2, 3, 5]\n",
      "[1, 2, 3, 5]\n",
      "[1, 2, 3, 5, 10]\n",
      "[1, 2, 3, 5, 10, 3, 10, 4, 2]\n",
      "2\n",
      "2\n",
      "2\n",
      "[1, 2, 3, 5, 9, 10, 3, 10, 4, 2]\n",
      "10\n",
      "[10, 10, 9, 5, 4, 3, 3, 2, 2, 1]\n",
      "[10, 10, 9, 5, 4, 3, 2, 2, 1]\n"
     ]
    }
   ],
   "source": [
    "a=[1,2,3,4,5]\n",
    "b=a.copy()\n",
    "print(b)\n",
    "\n",
    "c=b.pop(3)\n",
    "print(b)\n",
    "\n",
    "print(b)\n",
    "b.append(10)\n",
    "print(b)\n",
    "b.append(3)\n",
    "b.append(10)\n",
    "b.append(4)\n",
    "b.append(2)\n",
    "print(b)\n",
    "\n",
    "print(b.index(3))\n",
    "print(b.count(3))\n",
    "print(b.count(3))\n",
    "b.insert(4,9)\n",
    "print(b)\n",
    "print(len(b))\n",
    "b.sort(reverse=True)\n",
    "print(b)\n",
    "b.remove(3)\n",
    "print(b)\n",
    "b.append"
   ]
  },
  {
   "cell_type": "code",
   "execution_count": 25,
   "id": "0be771bf",
   "metadata": {},
   "outputs": [
    {
     "name": "stdout",
     "output_type": "stream",
     "text": [
      "1\n",
      "2\n",
      "3\n",
      "4\n",
      "5\n",
      "6\n",
      "6\n",
      "5\n",
      "7\n",
      "66\n",
      "78\n",
      "44\n"
     ]
    }
   ],
   "source": [
    "a=[1,2,3,4,5,6,6,5,7,66,78,44]\n",
    "for x in a:\n",
    "    print(x)"
   ]
  },
  {
   "cell_type": "code",
   "execution_count": 1,
   "id": "aa80b260",
   "metadata": {
    "scrolled": true
   },
   "outputs": [
    {
     "name": "stdout",
     "output_type": "stream",
     "text": [
      "Enter the size of list: 5\n",
      "7\n",
      "['7']\n",
      "3\n",
      "['7', '3']\n",
      "5\n",
      "['7', '3', '5']\n",
      "8\n",
      "['7', '3', '5', '8']\n",
      "3\n",
      "['7', '3', '5', '8', '3']\n"
     ]
    }
   ],
   "source": [
    "n=int(input(\"Enter the size of list: \"))\n",
    "a=[]\n",
    "for x in range (0,n):\n",
    "    x=input()\n",
    "    a.append(x)\n",
    "    print(a)    "
   ]
  },
  {
   "cell_type": "code",
   "execution_count": 3,
   "id": "c67226a7",
   "metadata": {},
   "outputs": [
    {
     "name": "stdout",
     "output_type": "stream",
     "text": [
      "Enter the element of the list: 1 2 3 4 5 6 7 8 9\n",
      "['1', '2', '3', '4', '5', '6', '7', '8', '9']\n"
     ]
    }
   ],
   "source": [
    "L = [item for item in input(\"Enter the element of the list: \").split()]\n",
    "print(L)                            "
   ]
  },
  {
   "cell_type": "code",
   "execution_count": 13,
   "id": "5870b545",
   "metadata": {},
   "outputs": [
    {
     "name": "stdout",
     "output_type": "stream",
     "text": [
      "(1, 2, 3, 4, 5, 5, 'Reddy')\n",
      "[1, 2, 3, 4, 5, 5, 'Reddy']\n",
      "(1, 2, 3, 4, 5, 'Reddy', 'Reddy')\n",
      "Reddy\n"
     ]
    }
   ],
   "source": [
    "a=(1,2,3,4,5,5,\"Reddy\")\n",
    "print(a)\n",
    "\n",
    "b=list(a)\n",
    "print(b)\n",
    "b[5]=\"Reddy\"\n",
    "\n",
    "a=tuple(b)\n",
    "print(a)\n",
    "print(a[-2])\n",
    "\n"
   ]
  },
  {
   "cell_type": "code",
   "execution_count": 14,
   "id": "5d821e8f",
   "metadata": {},
   "outputs": [
    {
     "name": "stdout",
     "output_type": "stream",
     "text": [
      "9\n",
      "8\n",
      "7\n",
      "6\n",
      "5\n",
      "4\n",
      "3\n",
      "2\n",
      "1\n"
     ]
    }
   ],
   "source": [
    "a=(1,2,3,4,5,6,7,8,9)\n",
    "for x in range (-1,-1*(len(a)+1),-1):\n",
    "    print(a[x])"
   ]
  },
  {
   "cell_type": "code",
   "execution_count": 16,
   "id": "b5796327",
   "metadata": {},
   "outputs": [
    {
     "name": "stdout",
     "output_type": "stream",
     "text": [
      "9\n",
      "8\n",
      "7\n",
      "6\n",
      "5\n",
      "4\n",
      "3\n",
      "2\n",
      "1\n"
     ]
    }
   ],
   "source": [
    "a=(1,2,3,4,5,6,7,8,9)\n",
    "for x in range (0,len(a)):\n",
    "    print(a[-1*(x+1)])"
   ]
  },
  {
   "cell_type": "code",
   "execution_count": 17,
   "id": "e809d83c",
   "metadata": {},
   "outputs": [
    {
     "name": "stdout",
     "output_type": "stream",
     "text": [
      "1\n",
      "2\n",
      "3\n",
      "4\n",
      "5\n",
      "6\n",
      "7\n",
      "8\n",
      "9\n"
     ]
    }
   ],
   "source": [
    "a=(1,2,3,4,5,6,7,8,9)\n",
    "for x in range (len(a),0,-1):\n",
    "    print(a[-1*x])"
   ]
  },
  {
   "cell_type": "markdown",
   "id": "ed9f3941",
   "metadata": {},
   "source": [
    "dictionary\n",
    "\n",
    "set of key and values\n",
    "\n",
    "key values pair\n",
    "\n",
    "funtions:\n",
    "keys()\n",
    "values()\n",
    "items()\n",
    "get()\n",
    "copy()"
   ]
  },
  {
   "cell_type": "code",
   "execution_count": 1,
   "id": "29036588",
   "metadata": {},
   "outputs": [
    {
     "name": "stdout",
     "output_type": "stream",
     "text": [
      "{1: 'prabhakar', 2: 'REDDY', 3: 'B'}\n",
      "REDDY\n",
      "dict_keys([1, 2, 3])\n",
      "dict_values(['prabhakar', 'REDDY', 'B'])\n",
      "dict_items([(1, 'prabhakar'), (2, 'REDDY'), (3, 'B')])\n",
      "{1: 'prabhakar', 2: 'REDDY', 3: 'B', 4: 'PRABHA'}\n",
      "{1: 'prabhakar', 2: 'REDDY', 3: 'B', 4: 'PRABHA', 5: 'Family'}\n"
     ]
    }
   ],
   "source": [
    "D={1:\"prabhakar\",2:\"reddy\",3:\"B\",2:\"REDDY\"}\n",
    "print(D)\n",
    "print(D[2])\n",
    "print(D.keys())\n",
    "print(D.values())\n",
    "print(D.items())\n",
    "D[4]=\"PRABHA\"\n",
    "print(D)\n",
    "D[5]=\"Family\"\n",
    "print(D)"
   ]
  },
  {
   "cell_type": "markdown",
   "id": "e4df8e63",
   "metadata": {},
   "source": []
  },
  {
   "cell_type": "code",
   "execution_count": 35,
   "id": "95c6c24a",
   "metadata": {},
   "outputs": [
    {
     "name": "stdout",
     "output_type": "stream",
     "text": [
      "hello world\n"
     ]
    }
   ],
   "source": [
    "print(\"hello world\")"
   ]
  },
  {
   "cell_type": "markdown",
   "id": "6f39fb8d",
   "metadata": {},
   "source": [
    "error and exception:-\n",
    "\n",
    "syntax error:-\n",
    "value error:-\n",
    "type error:-\n",
    "indentation error:-\n",
    "name error:-\n",
    "zerodivision error:-\n",
    "index error:-\n",
    "key error:-\n",
    "attribute error:-\n",
    "\n",
    "exception handling:-\n",
    "try block:-\n",
    "except block:-\n",
    "else block:-\n",
    "finally block:-"
   ]
  },
  {
   "cell_type": "code",
   "execution_count": 44,
   "id": "26516972",
   "metadata": {},
   "outputs": [
    {
     "name": "stdout",
     "output_type": "stream",
     "text": [
      "6\n",
      "2\n",
      "3.0\n"
     ]
    }
   ],
   "source": [
    "a=int(input())\n",
    "b=int(input())\n",
    "c=a/b \n",
    "print(c)"
   ]
  },
  {
   "cell_type": "code",
   "execution_count": 46,
   "id": "0c8a93ba",
   "metadata": {},
   "outputs": [
    {
     "name": "stdout",
     "output_type": "stream",
     "text": [
      "enter the index:10\n",
      "there is no such index\n"
     ]
    }
   ],
   "source": [
    "a=[1,2,3,4,5,6,7,8,9]\n",
    "i=int(input(\"enter the index:\"))\n",
    "try:\n",
    "    print(a[i])\n",
    "except:\n",
    "    print(\"there is no such index\")"
   ]
  },
  {
   "cell_type": "code",
   "execution_count": 47,
   "id": "c6e383f2",
   "metadata": {},
   "outputs": [
    {
     "name": "stdout",
     "output_type": "stream",
     "text": [
      "5\n",
      "0\n",
      "can't Division by zero\n",
      "Code Exception done\n"
     ]
    }
   ],
   "source": [
    "try:\n",
    "    a=input()\n",
    "    b=input()\n",
    "    c=int(a)/int(b)\n",
    "    x=\"hello\"/3\n",
    "except ValueError:\n",
    "    print(\"Value unable to convert\")\n",
    "except ZeroDivisionError:\n",
    "    print(\"can't Division by zero\")\n",
    "except :\n",
    "    print(\"Some unknown Error Found\")\n",
    "else:\n",
    "    print(\"No Error\")\n",
    "finally:\n",
    "    print(\"Code Exception done\")"
   ]
  },
  {
   "cell_type": "markdown",
   "id": "2a2cad09",
   "metadata": {},
   "source": [
    "create a dictionary containing the names of students and their corresponding grades.write a program to calculate the average grade and handle the case where the dictionary is empty."
   ]
  },
  {
   "cell_type": "code",
   "execution_count": 6,
   "id": "0a7f5bdd",
   "metadata": {},
   "outputs": [
    {
     "name": "stdout",
     "output_type": "stream",
     "text": [
      "Average grade: 83.33333333333333\n"
     ]
    }
   ],
   "source": [
    "def calculater_average_grade(grades_dict):\n",
    "    if not grades_dict:\n",
    "        print(\"the dictionary is empty.\")\n",
    "        return None\n",
    "    return sum(grades_dict.values())/len(grades_dict)\n",
    "grades_dict={'Alice':85,'Bob':90,'Charlie':75}\n",
    "average_grade=calculater_average_grade(grades_dict)\n",
    "if average_grade is not None:\n",
    "    print(\"Average grade:\",average_grade)"
   ]
  },
  {
   "cell_type": "code",
   "execution_count": null,
   "id": "549e674c",
   "metadata": {},
   "outputs": [],
   "source": []
  }
 ],
 "metadata": {
  "kernelspec": {
   "display_name": "Python 3 (ipykernel)",
   "language": "python",
   "name": "python3"
  },
  "language_info": {
   "codemirror_mode": {
    "name": "ipython",
    "version": 3
   },
   "file_extension": ".py",
   "mimetype": "text/x-python",
   "name": "python",
   "nbconvert_exporter": "python",
   "pygments_lexer": "ipython3",
   "version": "3.11.0"
  }
 },
 "nbformat": 4,
 "nbformat_minor": 5
}
