{
 "cells": [
  {
   "cell_type": "markdown",
   "id": "3e653185-0458-481c-9b01-f8e542c025b6",
   "metadata": {},
   "source": [
    "linked list :\n",
    "\n",
    "    insertion,deletion(start,mid,end)"
   ]
  },
  {
   "cell_type": "code",
   "execution_count": 3,
   "id": "1974c93c-d4e6-432b-85f0-4ad8fe98d10e",
   "metadata": {},
   "outputs": [
    {
     "name": "stdout",
     "output_type": "stream",
     "text": [
      "1 --> 2 --> 3 --> 4 --> 5 --> None -->\n"
     ]
    }
   ],
   "source": [
    "class node:\n",
    "    def __init__(self,value):\n",
    "        self.data=value\n",
    "        self.next=None\n",
    "\n",
    "Head=node(1)\n",
    "Head.next=node(2)\n",
    "Head.next.next=node(3)\n",
    "Head.next.next.next=node(4)\n",
    "Head.next.next.next.next=node(5)\n",
    "\n",
    "\n",
    "print(Head.data,\"-->\",\n",
    "Head.next.data,\"-->\",\n",
    "Head.next.next.data,\"-->\", \n",
    "Head.next.next.next.data,\"-->\",\n",
    "Head.next.next.next.next.data,\"-->\",\n",
    "Head.next.next.next.next.next,\"-->\",)"
   ]
  },
  {
   "cell_type": "code",
   "execution_count": 4,
   "id": "e880c2f2-019d-4a4a-8f26-68747075a8e8",
   "metadata": {},
   "outputs": [
    {
     "name": "stdout",
     "output_type": "stream",
     "text": [
      "1 --> 2 --> 3 --> 4 --> 5 --> None -->\n"
     ]
    }
   ],
   "source": [
    "print(Head.data,\"-->\",\n",
    "Head.next.data,\"-->\",\n",
    "Head.next.next.data,\"-->\", \n",
    "Head.next.next.next.data,\"-->\",\n",
    "Head.next.next.next.next.data,\"-->\",\n",
    "Head.next.next.next.next.next,\"-->\",)"
   ]
  },
  {
   "cell_type": "code",
   "execution_count": 5,
   "id": "a2bd39af-55a1-4504-8acb-2af8f805e8c6",
   "metadata": {},
   "outputs": [
    {
     "name": "stdin",
     "output_type": "stream",
     "text": [
      "enter the location value:  1\n",
      "enter the value:  12\n"
     ]
    }
   ],
   "source": [
    "L = int(input(\"enter the location value: \"))\n",
    "X = int(input(\"enter the value: \"))\n",
    "curr = Head\n",
    "while curr !=None:\n",
    "    if(curr.data == L):\n",
    "        break\n",
    "    curr=curr.next \n",
    "temp=node(X)\n",
    "temp.next=curr.next\n",
    "curr.next=temp"
   ]
  },
  {
   "cell_type": "code",
   "execution_count": 6,
   "id": "2c3227e1-3ad5-480d-ae86-c4df7e704187",
   "metadata": {},
   "outputs": [
    {
     "name": "stdout",
     "output_type": "stream",
     "text": [
      "1 --> 12 --> 2 --> 3 --> 4 --> 5 --> "
     ]
    }
   ],
   "source": [
    "curr=Head\n",
    "while curr!=None:\n",
    "    print(curr.data,\"-->\",end =\" \")\n",
    "    curr=curr.next"
   ]
  },
  {
   "cell_type": "code",
   "execution_count": 7,
   "id": "e43d6caa-5cd5-478e-b760-d3e0ad9ec39f",
   "metadata": {},
   "outputs": [
    {
     "name": "stdin",
     "output_type": "stream",
     "text": [
      "enter the  13\n"
     ]
    }
   ],
   "source": [
    "T=int(input(\"enter the \"))\n",
    "Head=curr\n",
    "while curr!=None:\n",
    "    Head=temp\n",
    "    temp.next=curr\n",
    "    print(curr.data,\"-->\", end=\" \")"
   ]
  },
  {
   "cell_type": "code",
   "execution_count": 8,
   "id": "b579a590-124a-4d33-be57-9ba157e2ff47",
   "metadata": {},
   "outputs": [
    {
     "name": "stdin",
     "output_type": "stream",
     "text": [
      "enter the element to be insert 3\n"
     ]
    },
    {
     "ename": "AttributeError",
     "evalue": "'NoneType' object has no attribute 'next'",
     "output_type": "error",
     "traceback": [
      "\u001b[1;31m---------------------------------------------------------------------------\u001b[0m",
      "\u001b[1;31mAttributeError\u001b[0m                            Traceback (most recent call last)",
      "Cell \u001b[1;32mIn[8], line 3\u001b[0m\n\u001b[0;32m      1\u001b[0m x\u001b[38;5;241m=\u001b[39m\u001b[38;5;28minput\u001b[39m(\u001b[38;5;124m\"\u001b[39m\u001b[38;5;124menter the element to be insert\u001b[39m\u001b[38;5;124m\"\u001b[39m)\n\u001b[0;32m      2\u001b[0m temp\u001b[38;5;241m=\u001b[39m(x)\n\u001b[1;32m----> 3\u001b[0m \u001b[43mHead\u001b[49m\u001b[38;5;241;43m.\u001b[39;49m\u001b[43mnext\u001b[49m\u001b[38;5;241m=\u001b[39mtemp\n",
      "\u001b[1;31mAttributeError\u001b[0m: 'NoneType' object has no attribute 'next'"
     ]
    }
   ],
   "source": [
    "x=input(\"enter the element to be insert\")\n",
    "temp=(x)\n",
    "Head.next=temp"
   ]
  },
  {
   "cell_type": "markdown",
   "id": "b2175703-3d2b-4462-9370-06c8e122ba29",
   "metadata": {},
   "source": [
    "TREE:\n",
    "     INORDER\n",
    "     PREORDER\n",
    "     POSTORDER\n",
    "     LEVELORDER"
   ]
  },
  {
   "cell_type": "code",
   "execution_count": 6,
   "id": "4f273da8-5b4b-4889-8bbc-d0c62eb3bdb7",
   "metadata": {},
   "outputs": [
    {
     "name": "stdout",
     "output_type": "stream",
     "text": [
      "1\n",
      "2\n",
      "4\n",
      "6\n",
      "3\n",
      "7\n",
      "5\n"
     ]
    }
   ],
   "source": [
    "class node:\n",
    "    def __init__(self,value):\n",
    "        self.data=value\n",
    "        self.left=None\n",
    "        self.right=None\n",
    "\n",
    "def preorder(root):\n",
    "    if root==None:\n",
    "        return\n",
    "    print(root.data)\n",
    "    preorder(root.left)\n",
    "    preorder(root.right)\n",
    "\n",
    "root=node(1)\n",
    "root.left=node(2)\n",
    "    \n",
    "root.right=node(3)\n",
    "    \n",
    "root.left.left=node(4)\n",
    "root.right.right=node(5)\n",
    "    \n",
    "root.left.right=node(6)\n",
    "root.right.left=node(7)\n",
    "preorder(root)\n"
   ]
  },
  {
   "cell_type": "code",
   "execution_count": 22,
   "id": "2b859801-e401-4f41-971d-2fd16ea108bf",
   "metadata": {},
   "outputs": [
    {
     "name": "stdout",
     "output_type": "stream",
     "text": [
      "4\n",
      "2\n",
      "6\n",
      "1\n",
      "7\n",
      "3\n",
      "5\n",
      "<function inorder at 0x000001A0A65E39C0>\n"
     ]
    }
   ],
   "source": [
    "class node:\n",
    "    def __init__(self,value):\n",
    "        self.data=value\n",
    "        self.left=None\n",
    "        self.right=None\n",
    "\n",
    "def inorder(root):\n",
    "    if root==None:\n",
    "        return\n",
    "    inorder(root.left)\n",
    "    print(root.data)\n",
    "    inorder(root.right)\n",
    "    \n",
    "root=node(1)\n",
    "root.left=node(2)\n",
    "root.right=node(3)\n",
    "    \n",
    "root.left.left=node(4)\n",
    "root.right.right=node(5)\n",
    "    \n",
    "root.left.right=node(6)\n",
    "root.right.left=node(7)\n",
    "inorder(root)\n",
    "print(inorder)"
   ]
  },
  {
   "cell_type": "code",
   "execution_count": 23,
   "id": "705f0655-d972-4aa1-a83e-88eb350ca7ae",
   "metadata": {},
   "outputs": [
    {
     "name": "stdout",
     "output_type": "stream",
     "text": [
      "4\n",
      "6\n",
      "2\n",
      "7\n",
      "5\n",
      "3\n",
      "1\n",
      "<function postorder at 0x000001A0A65E2B60>\n"
     ]
    }
   ],
   "source": [
    "class node:\n",
    "    def __init__(self,value):\n",
    "        self.data=value\n",
    "        self.left=None\n",
    "        self.right=None\n",
    "\n",
    "def postorder(root):\n",
    "    if root==None:\n",
    "        return\n",
    "    postorder(root.left)\n",
    "    postorder(root.right)\n",
    "    print(root.data)\n",
    "    \n",
    "root=node(1)\n",
    "root.left=node(2)\n",
    "root.right=node(3)\n",
    "    \n",
    "root.left.left=node(4)\n",
    "root.right.right=node(5)\n",
    "    \n",
    "root.left.right=node(6)\n",
    "root.right.left=node(7)\n",
    "postorder(root)\n",
    "print(postorder)"
   ]
  },
  {
   "cell_type": "code",
   "execution_count": 30,
   "id": "f805eeab-d42c-49b3-85a4-36b798c30129",
   "metadata": {},
   "outputs": [
    {
     "name": "stdout",
     "output_type": "stream",
     "text": [
      "1 \n",
      "2 3 \n",
      "4 6 7 5 \n",
      "<function levelorder at 0x000001A0A65E1A80>\n"
     ]
    }
   ],
   "source": [
    "class node:\n",
    "    def __init__(self,value):\n",
    "        self.data=value\n",
    "        self.left=None\n",
    "        self.right=None\n",
    "\n",
    "\n",
    "def levelorder(root):\n",
    "    q=[root,None]\n",
    "    while q:\n",
    "        curr=q.pop(0)\n",
    "        if curr==None:\n",
    "            print()\n",
    "            if q:\n",
    "                q.append(curr)\n",
    "        else:\n",
    "            print(curr.data,end=\" \")\n",
    "            if curr.left!=None:\n",
    "                q.append(curr.left)\n",
    "            if curr.right!=None:\n",
    "                q.append(curr.right)\n",
    "    \n",
    "root=node(1)\n",
    "root.left=node(2)\n",
    "root.right=node(3)\n",
    "    \n",
    "root.left.left=node(4)\n",
    "root.right.right=node(5)\n",
    "    \n",
    "root.left.right=node(6)\n",
    "root.right.left=node(7)\n",
    "\n",
    "levelorder(root)\n",
    "print(levelorder)"
   ]
  },
  {
   "cell_type": "code",
   "execution_count": null,
   "id": "590d0b47-aa86-4176-b0b2-8f3830a5e2d8",
   "metadata": {},
   "outputs": [],
   "source": []
  }
 ],
 "metadata": {
  "kernelspec": {
   "display_name": "Python 3 (ipykernel)",
   "language": "python",
   "name": "python3"
  },
  "language_info": {
   "codemirror_mode": {
    "name": "ipython",
    "version": 3
   },
   "file_extension": ".py",
   "mimetype": "text/x-python",
   "name": "python",
   "nbconvert_exporter": "python",
   "pygments_lexer": "ipython3",
   "version": "3.12.3"
  }
 },
 "nbformat": 4,
 "nbformat_minor": 5
}
