{
 "cells": [
  {
   "cell_type": "code",
   "execution_count": 1,
   "id": "bdd2b472",
   "metadata": {},
   "outputs": [
    {
     "name": "stdout",
     "output_type": "stream",
     "text": [
      "List contains non-numeric values: ['a', 'b']\n"
     ]
    }
   ],
   "source": [
    "my_list = [1, 2, 3, 'a', 5, 'b']\n",
    "\n",
    "# Check if list contains non-numeric values\n",
    "non_numeric_values = [x for x in my_list if not isinstance(x, (int, float))]\n",
    "\n",
    "if non_numeric_values:\n",
    "    print(\"List contains non-numeric values:\", non_numeric_values)\n",
    "else:\n",
    "    print(\"List contains only numeric values.\")"
   ]
  },
  {
   "cell_type": "code",
   "execution_count": 2,
   "id": "72f9bfb2",
   "metadata": {},
   "outputs": [
    {
     "name": "stdout",
     "output_type": "stream",
     "text": [
      "Average grade: 83.33333333333333\n"
     ]
    }
   ],
   "source": [
    "def calculater_average_grade(grades_dict):\n",
    "    if not grades_dict:\n",
    "        print(\"the dictionary is empty.\")\n",
    "        return None\n",
    "    return sum(grades_dict.values())/len(grades_dict)\n",
    "grades_dict={'Alice':85,'Bob':90,'Charlie':75}\n",
    "average_grade=calculater_average_grade(grades_dict)\n",
    "if average_grade is not None:\n",
    "    print(\"Average grade:\",average_grade)"
   ]
  },
  {
   "cell_type": "code",
   "execution_count": null,
   "id": "ad54a977",
   "metadata": {},
   "outputs": [],
   "source": []
  }
 ],
 "metadata": {
  "kernelspec": {
   "display_name": "Python 3 (ipykernel)",
   "language": "python",
   "name": "python3"
  },
  "language_info": {
   "codemirror_mode": {
    "name": "ipython",
    "version": 3
   },
   "file_extension": ".py",
   "mimetype": "text/x-python",
   "name": "python",
   "nbconvert_exporter": "python",
   "pygments_lexer": "ipython3",
   "version": "3.11.0"
  }
 },
 "nbformat": 4,
 "nbformat_minor": 5
}
