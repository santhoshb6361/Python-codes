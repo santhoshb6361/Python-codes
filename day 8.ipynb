{
 "cells": [
  {
   "cell_type": "code",
   "execution_count": 12,
   "id": "fff5497c-4c12-4268-a704-9c4e75506500",
   "metadata": {},
   "outputs": [
    {
     "name": "stdout",
     "output_type": "stream",
     "text": [
      "5 4 8 1 9 6 7 "
     ]
    }
   ],
   "source": [
    "#insertion sort\n",
    "arr=[5,4,8,1,9,6,7]\n",
    "for i in range(len(arr)):\n",
    "    print(arr[i],end=' ')"
   ]
  },
  {
   "cell_type": "code",
   "execution_count": null,
   "id": "3a9aa8ea-5428-42cf-9e71-3d09e14e9c0a",
   "metadata": {},
   "outputs": [],
   "source": [
    "arr=[5,4,8,1,9,6,7]\n",
    "for i in range(0,len(arr)):\n",
    "    "
   ]
  },
  {
   "cell_type": "code",
   "execution_count": null,
   "id": "55b0974e-4c83-40b4-a291-5ef6d61b7bd3",
   "metadata": {},
   "outputs": [],
   "source": [
    "l=[2, 3, 4, 5, 8, 10, 43, 44, 45, 47]\n",
    "low=0\n",
    "high=len(l)\n",
    "high=len(arr)-1\n",
    "key=int(input('enter the key': ))\n",
    "mid=int ((low+(high-low)/2))\n",
    "while low<=high:\n",
    "    if key==arr[mid]\n",
    "    "
   ]
  },
  {
   "cell_type": "markdown",
   "id": "a873866f-d1a5-481a-83fd-1c5ab87f1909",
   "metadata": {},
   "source": [
    "string setting"
   ]
  },
  {
   "cell_type": "code",
   "execution_count": 9,
   "id": "af5f97a5-c973-42a8-bf3a-9a5a23a55ab9",
   "metadata": {},
   "outputs": [
    {
     "name": "stdin",
     "output_type": "stream",
     "text": [
      "enter the string lf(ek)kk{E{}}\n"
     ]
    },
    {
     "name": "stdout",
     "output_type": "stream",
     "text": [
      "valid😀\n"
     ]
    }
   ],
   "source": [
    "st=input('enter the string')\n",
    "l=list()\n",
    "flag=False\n",
    "count1=0\n",
    "count2=0\n",
    "count3=0\n",
    "for i in range(0,len(st)):\n",
    "    if st[i]=='(':\n",
    "        count1+=1\n",
    "   \n",
    "    elif st[i]=='{':\n",
    "        count2+=1\n",
    "   \n",
    "    elif st[i]=='[':\n",
    "        count3+=1\n",
    "   \n",
    "    elif st[i]==')':\n",
    "        count1-=1\n",
    "   \n",
    "    elif st[i]=='}':\n",
    "        count2-=1\n",
    "   \n",
    "    elif st[i]==']':\n",
    "        count3-=1\n",
    "if count1==0 and count2==0 and count3==0:\n",
    "    print('valid😀')\n",
    "else:\n",
    "    print('invalid😒')\n",
    "    \n",
    "            \n"
   ]
  },
  {
   "cell_type": "markdown",
   "id": "13be0985-191f-44a4-9ae1-4de93bd307cc",
   "metadata": {},
   "source": [
    "STACK IMPLEMPTION"
   ]
  },
  {
   "cell_type": "code",
   "execution_count": 5,
   "id": "bb6560ae-da27-44b3-af99-0b99574b6dff",
   "metadata": {},
   "outputs": [
    {
     "name": "stdout",
     "output_type": "stream",
     "text": [
      "[1, 23, 4, 5, 2, 3]\n",
      "[1, 23, 4, 5, 2, 3, 10]\n",
      "10popped\n",
      "[1, 23, 4, 5, 2, 3]\n",
      "3popped\n",
      "[1, 23, 4, 5, 2]\n"
     ]
    }
   ],
   "source": [
    "st=[1,23,4,5,2]\n",
    "\n",
    "def push(e):\n",
    "    st.append(e)\n",
    "    print(st)\n",
    "\n",
    "def pop():\n",
    "    e=st.pop()\n",
    "    print(f'{e}popped')\n",
    "    print(st)\n",
    "push(3)\n",
    "push(10)\n",
    "pop()\n",
    "pop()\n",
    "\n",
    "\n",
    "\n",
    "       "
   ]
  },
  {
   "cell_type": "markdown",
   "id": "cfe61fdc-01da-48da-8777-099fa9800777",
   "metadata": {},
   "source": [
    "queue implemention"
   ]
  },
  {
   "cell_type": "code",
   "execution_count": 10,
   "id": "388012d5-6e01-4266-b967-9ab2158af7e9",
   "metadata": {},
   "outputs": [
    {
     "name": "stdout",
     "output_type": "stream",
     "text": [
      "[85, 9, 5, 8, 56, 5, '😁', 55, '😀']\n",
      "[85, 9, 5, 8, 56, 5, '😁', 55, '😀', '😊']\n",
      "[9, 5, 8, 56, 5, '😁', 55, '😀', '😊']\n",
      "[5, 8, 56, 5, '😁', 55, '😀', '😊']\n"
     ]
    }
   ],
   "source": [
    "def insert(e):\n",
    "    q.append(e)\n",
    "    print(q)\n",
    "def delete():\n",
    "    q.remove(q[0])\n",
    "    print(q)\n",
    "q=[85,9,5,8,56,5,'😁',55]\n",
    "insert('😀')\n",
    "insert('😊')\n",
    "delete()\n",
    "delete()"
   ]
  },
  {
   "cell_type": "code",
   "execution_count": null,
   "id": "8310ccce-267c-42a0-96c0-b6bd6eab937f",
   "metadata": {},
   "outputs": [],
   "source": []
  }
 ],
 "metadata": {
  "kernelspec": {
   "display_name": "Python 3 (ipykernel)",
   "language": "python",
   "name": "python3"
  },
  "language_info": {
   "codemirror_mode": {
    "name": "ipython",
    "version": 3
   },
   "file_extension": ".py",
   "mimetype": "text/x-python",
   "name": "python",
   "nbconvert_exporter": "python",
   "pygments_lexer": "ipython3",
   "version": "3.12.3"
  }
 },
 "nbformat": 4,
 "nbformat_minor": 5
}
